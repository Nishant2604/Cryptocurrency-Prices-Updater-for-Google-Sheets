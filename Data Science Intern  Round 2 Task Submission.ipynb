{
 "cells": [
  {
   "cell_type": "code",
   "execution_count": 1,
   "id": "f4271bf0",
   "metadata": {},
   "outputs": [
    {
     "ename": "ModuleNotFoundError",
     "evalue": "No module named 'gspread'",
     "output_type": "error",
     "traceback": [
      "\u001b[1;31m---------------------------------------------------------------------------\u001b[0m",
      "\u001b[1;31mModuleNotFoundError\u001b[0m                       Traceback (most recent call last)",
      "Cell \u001b[1;32mIn[1], line 3\u001b[0m\n\u001b[0;32m      1\u001b[0m \u001b[38;5;28;01mimport\u001b[39;00m \u001b[38;5;21;01mrequests\u001b[39;00m\n\u001b[0;32m      2\u001b[0m \u001b[38;5;28;01mfrom\u001b[39;00m \u001b[38;5;21;01mbs4\u001b[39;00m \u001b[38;5;28;01mimport\u001b[39;00m BeautifulSoup\n\u001b[1;32m----> 3\u001b[0m \u001b[38;5;28;01mimport\u001b[39;00m \u001b[38;5;21;01mgspread\u001b[39;00m\n\u001b[0;32m      4\u001b[0m \u001b[38;5;28;01mfrom\u001b[39;00m \u001b[38;5;21;01moauth2client\u001b[39;00m\u001b[38;5;21;01m.\u001b[39;00m\u001b[38;5;21;01mservice_account\u001b[39;00m \u001b[38;5;28;01mimport\u001b[39;00m ServiceAccountCredentials\n",
      "\u001b[1;31mModuleNotFoundError\u001b[0m: No module named 'gspread'"
     ]
    }
   ],
   "source": [
    "import requests\n",
    "from bs4 import BeautifulSoup\n",
    "import gspread\n",
    "from oauth2client.service_account import ServiceAccountCredentials"
   ]
  },
  {
   "cell_type": "code",
   "execution_count": 2,
   "id": "6336bcad",
   "metadata": {},
   "outputs": [
    {
     "ename": "NameError",
     "evalue": "name 'ServiceAccountCredentials' is not defined",
     "output_type": "error",
     "traceback": [
      "\u001b[1;31m---------------------------------------------------------------------------\u001b[0m",
      "\u001b[1;31mNameError\u001b[0m                                 Traceback (most recent call last)",
      "Cell \u001b[1;32mIn[2], line 3\u001b[0m\n\u001b[0;32m      1\u001b[0m \u001b[38;5;66;03m# Set up Google Sheets API credentials\u001b[39;00m\n\u001b[0;32m      2\u001b[0m scope \u001b[38;5;241m=\u001b[39m [\u001b[38;5;124m'\u001b[39m\u001b[38;5;124mhttps://spreadsheets.google.com/feeds\u001b[39m\u001b[38;5;124m'\u001b[39m]\n\u001b[1;32m----> 3\u001b[0m credentials \u001b[38;5;241m=\u001b[39m ServiceAccountCredentials\u001b[38;5;241m.\u001b[39mfrom_json_keyfile_name(\u001b[38;5;124m'\u001b[39m\u001b[38;5;124mpath/to/private/key.json\u001b[39m\u001b[38;5;124m'\u001b[39m, scope)\n",
      "\u001b[1;31mNameError\u001b[0m: name 'ServiceAccountCredentials' is not defined"
     ]
    }
   ],
   "source": [
    "# Set up Google Sheets API credentials\n",
    "scope = ['https://spreadsheets.google.com/feeds']\n",
    "credentials = ServiceAccountCredentials.from_json_keyfile_name('\"C:\\Users\\Nishant Pathak\\Desktop\\Python\\.ipynb_checkpoints\\Untitled-checkpoint.ipynb\"', scope)\n",
    "\n"
   ]
  },
  {
   "cell_type": "code",
   "execution_count": 4,
   "id": "4832f30c",
   "metadata": {},
   "outputs": [
    {
     "ename": "NameError",
     "evalue": "name 'gspread' is not defined",
     "output_type": "error",
     "traceback": [
      "\u001b[1;31m---------------------------------------------------------------------------\u001b[0m",
      "\u001b[1;31mNameError\u001b[0m                                 Traceback (most recent call last)",
      "Cell \u001b[1;32mIn[4], line 2\u001b[0m\n\u001b[0;32m      1\u001b[0m \u001b[38;5;66;03m# Set up the Google Sheet\u001b[39;00m\n\u001b[1;32m----> 2\u001b[0m client \u001b[38;5;241m=\u001b[39m gspread\u001b[38;5;241m.\u001b[39mauthorize(credentials)\n\u001b[0;32m      3\u001b[0m sheet \u001b[38;5;241m=\u001b[39m client\u001b[38;5;241m.\u001b[39mopen_by_key(\u001b[38;5;124m'\u001b[39m\u001b[38;5;124mhttps://docs.google.com/spreadsheets/d/1mYMKnMhf4aiyUiCBKMr7pRTiHTv-jsrc9xGRC9Xz5z4/edit#gid=0\u001b[39m\u001b[38;5;124m'\u001b[39m)\u001b[38;5;241m.\u001b[39msheet1\n",
      "\u001b[1;31mNameError\u001b[0m: name 'gspread' is not defined"
     ]
    }
   ],
   "source": [
    "# Set up the Google Sheet\n",
    "client = gspread.authorize(credentials)\n",
    "sheet = client.open_by_key('https://docs.google.com/spreadsheets/d/1mYMKnMhf4aiyUiCBKMr7pRTiHTv-jsrc9xGRC9Xz5z4/edit#gid=0').sheet1\n"
   ]
  },
  {
   "cell_type": "code",
   "execution_count": null,
   "id": "c7f5507a",
   "metadata": {},
   "outputs": [],
   "source": [
    "# Define the exchanges and their URLs\n",
    "exchanges = [\n",
    "    {'name': 'Wazirx', 'url': 'https://wazirx.com/exchange'},\n",
    "    {'name': 'Coinswitch', 'url': 'https://coinswitch.co/in/exchange'},\n",
    "    {'name': 'Mudrex', 'url': 'https://mudrex.com/exchange'},\n",
    "    {'name': 'CoinDCX', 'url': 'https://coindcx.com/exchange'}\n"
   ]
  },
  {
   "cell_type": "code",
   "execution_count": null,
   "id": "7226f3c0",
   "metadata": {},
   "outputs": [],
   "source": [
    "# Define the cryptocurrencies to scrape\n",
    "cryptocurrencies = ['Bitcoin', 'Ethereum', 'Litecoin', 'Bitcoin Cash', 'Cardano', 'Stellar', 'EOS', 'Binance Coin', 'Tether', 'Monero', 'TRON', 'VeChain', 'Crypto.com Chain', 'Huobi Token', 'Chainlink', 'Uniswap', 'Solana', 'Dogecoin', 'Shiba Inu']\n"
   ]
  },
  {
   "cell_type": "code",
   "execution_count": null,
   "id": "25ad4e67",
   "metadata": {},
   "outputs": [],
   "source": [
    "# Scrape price data from each exchange\n",
    "def scrape_price_data(exchange):\n",
    "    response = requests.get(exchange['url'])\n",
    "    soup = BeautifulSoup(response.content, 'html.parser')\n",
    "    prices = {}\n",
    "    for cryptocurrency in cryptocurrencies:\n",
    "        price_element = soup.find('span', text=cryptocurrency)\n",
    "        if price_element:\n",
    "            price = price_element.find_next('span').text\n",
    "            prices[cryptocurrency] = price\n",
    "    return prices"
   ]
  },
  {
   "cell_type": "code",
   "execution_count": null,
   "id": "e6819ef7",
   "metadata": {},
   "outputs": [],
   "source": [
    "# Update the Google Sheet with the latest price data\n",
    "def update_sheet(prices):\n",
    "    sheet.clear()\n",
    "    sheet.update_cell(1, 1, 'Cryptocurrency')\n",
    "    sheet.update_cell(1, 2, 'Price')\n",
    "    row = 2\n",
    "    for cryptocurrency, price in prices.items():\n",
    "        sheet.update_cell(row, 1, cryptocurrency)\n",
    "        sheet.update_cell(row, 2, price)\n",
    "        row += 1"
   ]
  },
  {
   "cell_type": "code",
   "execution_count": null,
   "id": "8c80d433",
   "metadata": {},
   "outputs": [],
   "source": [
    "# Scrape and update the Google Sheet every minute\n",
    "while True:\n",
    "    prices = {}\n",
    "    for exchange in exchanges:\n",
    "        prices.update(scrape_price_data(exchange))\n",
    "    update_sheet(prices)\n",
    "    time.sleep(60)\n"
   ]
  }
 ],
 "metadata": {
  "kernelspec": {
   "display_name": "Python 3 (ipykernel)",
   "language": "python",
   "name": "python3"
  },
  "language_info": {
   "codemirror_mode": {
    "name": "ipython",
    "version": 3
   },
   "file_extension": ".py",
   "mimetype": "text/x-python",
   "name": "python",
   "nbconvert_exporter": "python",
   "pygments_lexer": "ipython3",
   "version": "3.11.4"
  }
 },
 "nbformat": 4,
 "nbformat_minor": 5
}
